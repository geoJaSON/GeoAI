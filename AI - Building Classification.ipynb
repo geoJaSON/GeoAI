{
 "cells": [
  {
   "cell_type": "code",
   "execution_count": 2,
   "metadata": {},
   "outputs": [],
   "source": [
    "from arcgis.learn import prepare_data, FeatureClassifier"
   ]
  },
  {
   "cell_type": "code",
   "execution_count": 3,
   "metadata": {},
   "outputs": [
    {
     "ename": "Exception",
     "evalue": "This module requires fastai, PyTorch, torchvision and scikit-image as its dependencies. \nInstall them using 'conda install -c pytorch -c fastai fastai=1.0.54 pytorch=1.1.0 torchvision scikit-image'",
     "output_type": "error",
     "traceback": [
      "\u001b[0;31m---------------------------------------------------------------------------\u001b[0m\n\u001b[0;31mException\u001b[0m                                 Traceback (most recent call last)",
      "In  \u001b[0;34m[3]\u001b[0m:\nLine \u001b[0;34m1\u001b[0m:     data= prepare_data(\u001b[33mr\u001b[39;49;00m\u001b[33m'\u001b[39;49;00m\u001b[33mF:\u001b[39;49;00m\u001b[33m\\\u001b[39;49;00m\u001b[33mTraining Data\u001b[39;49;00m\u001b[33m\\\u001b[39;49;00m\u001b[33mtiles\u001b[39;49;00m\u001b[33m'\u001b[39;49;00m,{\u001b[34m0\u001b[39;49;00m:\u001b[33m'\u001b[39;49;00m\u001b[33mUndamaged\u001b[39;49;00m\u001b[33m'\u001b[39;49;00m,\u001b[34m1\u001b[39;49;00m:\u001b[33m'\u001b[39;49;00m\u001b[33mDamaged\u001b[39;49;00m\u001b[33m'\u001b[39;49;00m,\u001b[34m3\u001b[39;49;00m:\u001b[33m'\u001b[39;49;00m\u001b[33mDestroyed\u001b[39;49;00m\u001b[33m'\u001b[39;49;00m})\n",
      "File \u001b[0;34mC:\\Program Files\\ArcGIS\\Pro\\bin\\Python\\envs\\arcgispro-py3\\lib\\site-packages\\arcgis\\learn\\_data.py\u001b[0m, in \u001b[0;32mprepare_data\u001b[0m:\nLine \u001b[0;34m336\u001b[0m:   _raise_fastai_import_error()\n",
      "File \u001b[0;34mC:\\Program Files\\ArcGIS\\Pro\\bin\\Python\\envs\\arcgispro-py3\\lib\\site-packages\\arcgis\\learn\\_data.py\u001b[0m, in \u001b[0;32m_raise_fastai_import_error\u001b[0m:\nLine \u001b[0;34m72\u001b[0m:    Install them using \u001b[33m'\u001b[39;49;00m\u001b[33mconda install -c pytorch -c fastai fastai=1.0.54 pytorch=1.1.0 torchvision scikit-image\u001b[39;49;00m\u001b[33m'\u001b[39;49;00m\u001b[33m\"\"\"\u001b[39;49;00m\u001b[33m)\u001b[39;49;00m\u001b[33m\u001b[39;49;00m\n",
      "\u001b[0;31mException\u001b[0m: This module requires fastai, PyTorch, torchvision and scikit-image as its dependencies. \nInstall them using 'conda install -c pytorch -c fastai fastai=1.0.54 pytorch=1.1.0 torchvision scikit-image'\n\u001b[0;31m---------------------------------------------------------------------------\u001b[0m"
     ]
    }
   ],
   "source": [
    "data= prepare_data(r'F:\\Training Data\\tiles',{0:'Undamaged',1:'Damaged',3:'Destroyed'})"
   ]
  },
  {
   "cell_type": "code",
   "execution_count": null,
   "metadata": {},
   "outputs": [],
   "source": [
    "data.show_batch()"
   ]
  },
  {
   "cell_type": "code",
   "execution_count": null,
   "metadata": {},
   "outputs": [],
   "source": [
    "model = FeatureClassifier(data)"
   ]
  },
  {
   "cell_type": "code",
   "execution_count": null,
   "metadata": {},
   "outputs": [],
   "source": [
    "model.lr_find()"
   ]
  },
  {
   "cell_type": "code",
   "execution_count": null,
   "metadata": {},
   "outputs": [],
   "source": [
    "model.fit(epochs=10, lr=1e-2)"
   ]
  },
  {
   "cell_type": "code",
   "execution_count": null,
   "metadata": {},
   "outputs": [],
   "source": [
    "model.show_results"
   ]
  }
 ],
 "metadata": {
  "kernelspec": {
   "display_name": "ArcGISPro",
   "language": "Python",
   "name": "python3"
  },
  "language_info": {
   "file_extension": ".py",
   "name": "python",
   "version": "3"
  }
 },
 "nbformat": 4,
 "nbformat_minor": 2
}
